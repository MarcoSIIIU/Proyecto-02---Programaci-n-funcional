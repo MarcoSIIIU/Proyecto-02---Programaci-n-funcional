{
 "cells": [
  {
   "cell_type": "markdown",
   "id": "58eb2c17-e833-416e-a22f-1e072016bece",
   "metadata": {
    "jp-MarkdownHeadingCollapsed": true
   },
   "source": [
    "<center><h1>NOTEBOOK RACKET<h1><center>"
   ]
  },
  {
   "cell_type": "markdown",
   "id": "f81821e0-0a37-40d2-af72-fea737fdb5cc",
   "metadata": {},
   "source": [
    "### -Defina una función para la evaluación del número combinatorio C(n,k), que utiliza la definición recursiva. \n"
   ]
  },
  {
   "cell_type": "code",
   "execution_count": 2,
   "id": "df7ba914-0b45-4259-a1b1-8950b3b6d18d",
   "metadata": {},
   "outputs": [],
   "source": [
    "(define (evalCombinatoria n k)\n",
    "  (if (or (= k 0) (= k n))\n",
    "      1\n",
    "      (if (and (>= k 0) (>= n 0) (>= n k))\n",
    "          (+ (evalCombinatoria (- n 1) (- k 1))\n",
    "             (evalCombinatoria (- n 1) k))\n",
    "          (displayln \"Error de Sintaxis\"))))"
   ]
  },
  {
   "cell_type": "code",
   "execution_count": null,
   "id": "6addabf0-7ab8-47dd-aa90-7cef11f0eaf5",
   "metadata": {},
   "outputs": [],
   "source": [
    "(evalCombinatoria 5 2)"
   ]
  },
  {
   "cell_type": "markdown",
   "id": "cd607604-d689-4af5-84bf-b64808730e0e",
   "metadata": {},
   "source": [
    "### -Defina una función recursiva para calcular el Máximo Común Divisor de dos enteros negativos a y b con a < b usando el hecho de que MCD(a, b) = MCD(a, b-a).\n"
   ]
  },
  {
   "cell_type": "code",
   "execution_count": 1,
   "id": "0f3d1490-c957-468c-be94-78ec6bd34445",
   "metadata": {},
   "outputs": [],
   "source": [
    "(define (MCD a b)\n",
    "  (if (and (< a 0) (< b 0) (< a b))   \n",
    "      (mcd_pos (abs a) (abs b))\n",
    "      \"Error de Sintaxis\"))\n",
    "      \n",
    "(define (mcd_pos a b)\n",
    "  (cond ((= a b) (abs a))                        \n",
    "        ((< a b) (mcd_pos a (- b a)))                \n",
    "        (else (mcd_pos b (- a b)))))   "
   ]
  },
  {
   "cell_type": "code",
   "execution_count": null,
   "id": "1122a223-ee7b-49ea-8f78-b90f81af1d3e",
   "metadata": {},
   "outputs": [],
   "source": [
    "(MCD -30 -15) "
   ]
  },
  {
   "cell_type": "markdown",
   "id": "5f158190-b5cb-4a89-9a92-e5128398fe43",
   "metadata": {},
   "source": [
    "### -Definir una función que devuelva, en una lista, todos los números primos desde un númer inicial hasta un número final, ejemplo: (primos 3 10) este ejemplo devolverá ‘(5 7)."
   ]
  },
  {
   "cell_type": "code",
   "execution_count": 4,
   "id": "e657cbd9-eecb-4ad3-ab86-ce516ff13d44",
   "metadata": {},
   "outputs": [],
   "source": [
    "(define (es_primo n)\n",
    "  (cond ((<= n 1) #f)\n",
    "        ((= n 2) #t)\n",
    "        ((even? n) #f)\n",
    "        (else\n",
    "         (let loop ((i 3))\n",
    "           (cond ((> (* i i) n) #t)\n",
    "                 ((zero? (modulo n i)) #f)\n",
    "                 (else (loop (+ i 2))))))))\n",
    "\n",
    "(define (primos inicio fin)\n",
    "  (let loop ((n inicio) (result '()))\n",
    "    (if (> n fin)\n",
    "        (reverse result)\n",
    "        (if (es_primo n)\n",
    "            (loop (+ n 1) (cons n result))\n",
    "            (loop (+ n 1) result)))))"
   ]
  },
  {
   "cell_type": "code",
   "execution_count": null,
   "id": "668ed111-ecdb-4f07-bb2c-839191ddb0d5",
   "metadata": {},
   "outputs": [],
   "source": [
    "(primos 4 10)"
   ]
  },
  {
   "cell_type": "markdown",
   "id": "cb642ce9-3bde-4d74-81a8-673c338b5490",
   "metadata": {},
   "source": [
    "### -Realizar una función para buscar un elemento en una lista, regresar #t si lo encontró y #f sino lo encontró"
   ]
  },
  {
   "cell_type": "code",
   "execution_count": 9,
   "id": "d1d29b30-2c2b-4b61-b6f8-dcf61f40762d",
   "metadata": {},
   "outputs": [],
   "source": [
    "(define (busca x lista)\n",
    "  (cond ((null? lista) #f)  \n",
    "        ((equal? x (car lista)) #t)  \n",
    "        (else (busca x (cdr lista)))))"
   ]
  },
  {
   "cell_type": "code",
   "execution_count": null,
   "id": "3b8d4b9f-aa5f-4d16-b4d0-46635459bf4d",
   "metadata": {},
   "outputs": [],
   "source": [
    "(busca 3 '(4 5 3))"
   ]
  },
  {
   "cell_type": "markdown",
   "id": "995bbe6a-7032-4c2b-8850-48f85aa8a7c9",
   "metadata": {},
   "source": [
    "### -Realizar una función recursiva que invierta una lista"
   ]
  },
  {
   "cell_type": "code",
   "execution_count": 11,
   "id": "5764374a-7420-465e-9b09-5d384aec5898",
   "metadata": {},
   "outputs": [],
   "source": [
    "(define (invierte lista)\n",
    "  (define (invierte-aux lista acumulado)\n",
    "    (if (null? lista)\n",
    "        acumulado\n",
    "        (invierte-aux (cdr lista) (cons (car lista) acumulado))))\n",
    "  (invierte-aux lista '()))"
   ]
  },
  {
   "cell_type": "code",
   "execution_count": null,
   "id": "666ee055-51e9-46e0-b39a-f49761d6b854",
   "metadata": {},
   "outputs": [],
   "source": [
    "(invierte '(2 3 4))"
   ]
  },
  {
   "cell_type": "markdown",
   "id": "13ebbdac-9ccc-4042-8f0f-f0436cae9c20",
   "metadata": {},
   "source": [
    "### -Realizar una función recursiva que elimine un elemento de una lista"
   ]
  },
  {
   "cell_type": "code",
   "execution_count": 14,
   "id": "d6a39def-3f7d-4371-9ee3-f91979a96419",
   "metadata": {},
   "outputs": [],
   "source": [
    "(define (elimina elemento lista)\n",
    "  (cond ((null? lista) '())  \n",
    "        ((equal? (car lista) elemento) (elimina elemento (cdr lista)))  \n",
    "        (else (cons (car lista) (elimina elemento (cdr lista)))))) "
   ]
  },
  {
   "cell_type": "code",
   "execution_count": null,
   "id": "6a79a35d-ff1a-4b2e-a254-bf047249c214",
   "metadata": {},
   "outputs": [],
   "source": [
    "(elimina 2 '(3 4 2))"
   ]
  },
  {
   "cell_type": "markdown",
   "id": "1d5c062c-4914-4f0b-9768-186d1b280380",
   "metadata": {},
   "source": [
    "### -Dado un número entero positivo, realizar una función recursiva que devuelva verdadero (#t) si el número dado es un palíndromo, en caso contrario, retornar falso (#f)."
   ]
  },
  {
   "cell_type": "code",
   "execution_count": 29,
   "id": "cd896f6a-bff1-4f3a-a37f-ebd2aa0d282a",
   "metadata": {},
   "outputs": [],
   "source": [
    "(define (numero-a-lista n)\n",
    "  (if (< n 10)\n",
    "      (list n)\n",
    "      (append (numero-a-lista (quotient n 10))\n",
    "              (list (remainder n 10)))))\n",
    "\n",
    "(define (sin_primer_y_ultimo lst)\n",
    "  (if (or (null? lst) (null? (cdr lst)))\n",
    "      '() \n",
    "      (cdr (reverse (cdr (reverse lst))))))\n",
    "\n",
    "(define (last lst)\n",
    "  (cond ((null? (cdr lst)) (car lst)) \n",
    "        (else (last (cdr lst)))))\n",
    "\n",
    "(define (es_palindromo lst)\n",
    "  (cond ((or (null? lst) (null? (cdr lst))) #t)  \n",
    "        ((not (= (car lst) (last lst))) #f)\n",
    "        (else (es_palindromo (sin_primer_y_ultimo lst)))))\n",
    "\n",
    "(define (palindromo n)\n",
    "  (es_palindromo (numero-a-lista n)))\n"
   ]
  },
  {
   "cell_type": "code",
   "execution_count": null,
   "id": "e11f6499-e128-40a1-8557-dc3c3e572d6b",
   "metadata": {},
   "outputs": [],
   "source": [
    "(palindromo 1221 )"
   ]
  },
  {
   "cell_type": "markdown",
   "id": "b6a75287-cf07-4226-b64b-7a71c5a64f40",
   "metadata": {},
   "source": [
    "### -Realizar una función recursiva que, dado un número entero, encuentra la suma de susdígitos. No use funciones incorporadas de Racket."
   ]
  },
  {
   "cell_type": "code",
   "execution_count": 33,
   "id": "0e97db60-d198-4525-8763-bbc18fe948a5",
   "metadata": {},
   "outputs": [],
   "source": [
    "(define (numero-a-lista n)\n",
    "  (if (< n 10)\n",
    "      (list n)\n",
    "      (append (numero-a-lista (quotient n 10))\n",
    "              (list (remainder n 10)))))\n",
    "\n",
    "(define (SumaDigitos numero)\n",
    "  (define lista (numero-a-lista numero)) \n",
    "  (define (sumar-lista lst)\n",
    "    (if (null? lst)\n",
    "        0\n",
    "        (+ (car lst) (sumar-lista (cdr lst))))) \n",
    "  (sumar-lista lista))\n",
    "\n"
   ]
  },
  {
   "cell_type": "code",
   "execution_count": null,
   "id": "49226b9e-2cd8-4cda-87c6-e6092f864dac",
   "metadata": {},
   "outputs": [],
   "source": [
    "(SumaDigitos 1236)"
   ]
  },
  {
   "cell_type": "markdown",
   "id": "38968d7a-0491-436e-b8df-f74e62379aab",
   "metadata": {},
   "source": [
    "### -Realizar una función recursiva que, dado un número entero decimal retorne el número binario equivalente. No use funciones incorporadas de Racket."
   ]
  },
  {
   "cell_type": "code",
   "execution_count": 36,
   "id": "4061ccf8-3e37-4035-a0cd-4e92eeaedcf9",
   "metadata": {},
   "outputs": [],
   "source": [
    "(define (binario n)\n",
    "  (if (= n 0)\n",
    "      '()\n",
    "      (append (binario (quotient n 2))\n",
    "              (list (remainder n 2)))))"
   ]
  },
  {
   "cell_type": "code",
   "execution_count": null,
   "id": "b8bd50cd-5baa-4fc2-8f82-0c0c43d6ba64",
   "metadata": {},
   "outputs": [],
   "source": [
    "(binario 4)"
   ]
  },
  {
   "cell_type": "markdown",
   "id": "8ed07e25-5626-4054-a759-04bfb85a5096",
   "metadata": {},
   "source": [
    "### -Utilizando la serie de Leibnitz y mediante una función recursiva, calcule el valor de PI"
   ]
  },
  {
   "cell_type": "code",
   "execution_count": 39,
   "id": "01173de5-7c9d-4b50-85b3-d4ce79f8f3fa",
   "metadata": {},
   "outputs": [],
   "source": [
    "(define (PI n)\n",
    "  (define (leibniz-serie termino)\n",
    "    (/ (exponente-uno termino) (exponente-dos termino)))\n",
    "  \n",
    "  (define (exponente-uno termino)\n",
    "    (expt -1 termino))\n",
    "  \n",
    "  (define (exponente-dos termino)\n",
    "    (+ (* 2 termino) 1))\n",
    "  \n",
    "  (define (iterar-terminos termino contador acumulador)\n",
    "    (if (<= contador 0)\n",
    "        acumulador\n",
    "        (iterar-terminos (+ termino 1)\n",
    "                         (- contador 1)\n",
    "                         (+ acumulador (leibniz-serie termino)))))\n",
    "  \n",
    "  (* 4 (iterar-terminos 0 n 0)))\n"
   ]
  },
  {
   "cell_type": "code",
   "execution_count": null,
   "id": "ae0cf13e-106c-449f-90e8-e3379cd4b87e",
   "metadata": {},
   "outputs": [],
   "source": [
    "(PI 1)"
   ]
  },
  {
   "cell_type": "markdown",
   "id": "6d14ac6b-eb62-40ba-8648-fa439aa03f94",
   "metadata": {},
   "source": [
    "#### Equipo: 5\n",
    "#### Canche May Marco Santiago - Gutierrez Couoh Josee Luis - Ruz Ruz Carlos Israel"
   ]
  }
 ],
 "metadata": {
  "kernelspec": {
   "display_name": "Racket",
   "language": "racket",
   "name": "racket"
  },
  "language_info": {
   "codemirror_mode": "scheme",
   "file_extension": ".rkt",
   "mimetype": "text/x-racket",
   "name": "Racket",
   "pygments_lexer": "racket",
   "version": "8.12"
  }
 },
 "nbformat": 4,
 "nbformat_minor": 5
}
